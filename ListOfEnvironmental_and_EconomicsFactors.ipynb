{
 "cells": [
  {
   "cell_type": "markdown",
   "metadata": {},
   "source": [
    "Economic factors:\n",
    "CPI, \n",
    "unemployment rate, \n",
    "GDP,\n",
    "salary,\n",
    "how many hospitals for given geographic areas,\n",
    "practicing register doctor per person (ratio)\n",
    "\n",
    "Envirnmental factors:\n",
    "temperature,\n",
    "rainfall,"
   ]
  }
 ],
 "metadata": {
  "kernelspec": {
   "display_name": "Python 3",
   "language": "python",
   "name": "python3"
  },
  "language_info": {
   "codemirror_mode": {
    "name": "ipython",
    "version": 3
   },
   "file_extension": ".py",
   "mimetype": "text/x-python",
   "name": "python",
   "nbconvert_exporter": "python",
   "pygments_lexer": "ipython3",
   "version": "3.6.1"
  }
 },
 "nbformat": 4,
 "nbformat_minor": 2
}
