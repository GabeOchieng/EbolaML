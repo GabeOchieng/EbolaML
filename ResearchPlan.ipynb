{
 "cells": [
  {
   "cell_type": "markdown",
   "metadata": {},
   "source": [
    "# Research Plan\n",
    " \n",
    "1. List of variables needed to run the hypothesis and find the variables\n",
    "2. (EDA) Exploratory Data Analysis for the variables\n",
    "4. construct the data matrix for the data\n",
    "3. Time series data: We want to run within groups and compare groups.\n",
    "4. Machine learning: classification process of time series data."
   ]
  },
  {
   "cell_type": "markdown",
   "metadata": {},
   "source": [
    "## Our Research Limitations\n",
    "Even though WHO made a distinction between Laboratory-confirmed cases and Epidemiologically linked cases, we chose to consider them both as one vector in this work. Future researchers might like to further separate this data.\n",
    "\n",
    "We didn't record where the laboratory analysis took place, since the information was not presented in a consistance manner. In some cases (2007) samples from The Congo were taken to Atlanta (USA) for analysis. We also didn't track the movment between countries, for ex - how many people from the UK came to Gobon around the time of a breakout, etc.\n",
    "\n",
    "Following WHO report from [May 2017](http://www.who.int/csr/don/13-may-2017-ebola-drc/en/) there are five identified subtypes of Ebola virus. We treated the data as one virus and didn't make the distinction between the subtypes."
   ]
  },
  {
   "cell_type": "markdown",
   "metadata": {},
   "source": [
    "## Why we didn't analysed the observations for Demographic Republic of Congo?\n",
    " \n",
    "Record available on the WHO website unable us to distinguish confirmed and suspected Ebola cases for the country. We can read that:\n",
    " \n",
    "11 September 2007: \n",
    "http://www.who.int/csr/don/2007_09_11/en/\n",
    "\"As of 11 September 2007, WHO is aware of 372 cases and 166 deaths associated with the ongoing event in the province\"\n",
    " \n",
    "27 September 2007:\n",
    "http://www.who.int/csr/don/2007_09_27/en/\n",
    "\"As of today, there has been a total of 17 laboratory-confirmed cases of Ebola haemorrhagic fever reported in the Mweka and Luebo health zone, Kasai Occidental Province (...) The last confirmed case of Ebola died on 22 September in Kampungu MSF isolation ward and was buried safely.\n",
    " \n",
    "03 October 2007:\n",
    "http://www.who.int/csr/don/2007_10_03a/en/\n",
    "\"The Ministry of Health has confirmed that, as of 2 October 2007, a total of 25 out of 76 suspected cases of Ebola haemorrhagic fever from the province of Kasai Occidental have now tested positive for the disease.\"\n",
    " \n",
    "26 December 2008:\n",
    "http://www.who.int/csr/don/2008_12_26a/en/\n",
    "\"As of 26 December, WHO is aware of 34 suspected cases including 9 deaths (CFR 26%) associated with the ongoing event\"\n"
   ]
  }
 ],
 "metadata": {
  "kernelspec": {
   "display_name": "Python 3",
   "language": "python",
   "name": "python3"
  },
  "language_info": {
   "codemirror_mode": {
    "name": "ipython",
    "version": 3
   },
   "file_extension": ".py",
   "mimetype": "text/x-python",
   "name": "python",
   "nbconvert_exporter": "python",
   "pygments_lexer": "ipython3",
   "version": "3.6.1"
  }
 },
 "nbformat": 4,
 "nbformat_minor": 2
}
