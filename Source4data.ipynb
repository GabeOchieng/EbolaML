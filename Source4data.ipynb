{
 "cells": [
  {
   "cell_type": "markdown",
   "metadata": {},
   "source": [
    "Rainfall and temperature:  http://sdwebx.worldbank.org/climateportal/index.cfm?page=country_historical_climate&ThisCCode=NGA\n",
    "    \n",
    "Ebola cases and deaths: https://data.humdata.org/dataset/ebola-cases-2014\n",
    "    \n",
    "unemployment, CPI http://data.worldbank.org/data-catalog/global-economic-monitor\n",
    "\n",
    "most recent available data for Guinea, Liberia, Sierra Leone  http://apps.who.int/gho/data/node.ebola-sitrep.quick-downloads?lang=en\n"
   ]
  },
  {
   "cell_type": "markdown",
   "metadata": {
    "collapsed": true
   },
   "source": [
    "Additional data sources to review:<br>\n",
    "WHO <br>\n",
    "summary reports - http://www.who.int/csr/don/archive/disease/ebola/en/<br>\n",
    "http://apps.who.int/gho/data/view.ebola-sitrep.ebola-summary-latest?lang=en <br>\n",
    "Ebola maps demonstration - http://www.who.int/csr/disease/ebola/maps/en/ <br>\n",
    "Comparison with European countries - http://apps.who.int/ebola/ebola-situation-reports March 2016<br>\n",
    "\n",
    "CDC -  https://www.cdc.gov/vhf/ebola/outbreaks/history/summaries.html <br>\n",
    "Wikipedia summary - https://en.wikipedia.org/wiki/List_of_Ebola_outbreaks <br>\n",
    "ResearchGate -https://www.researchgate.net/publication/9040283_Outbreak_of_Ebola_hemorrhagic_fever_in_the_Republic_of_the_Congo_2003_A_new_strategy that links to other reports and publications"
   ]
  }
 ],
 "metadata": {
  "kernelspec": {
   "display_name": "Python 3",
   "language": "python",
   "name": "python3"
  },
  "language_info": {
   "codemirror_mode": {
    "name": "ipython",
    "version": 3
   },
   "file_extension": ".py",
   "mimetype": "text/x-python",
   "name": "python",
   "nbconvert_exporter": "python",
   "pygments_lexer": "ipython3",
   "version": "3.6.1"
  }
 },
 "nbformat": 4,
 "nbformat_minor": 2
}
