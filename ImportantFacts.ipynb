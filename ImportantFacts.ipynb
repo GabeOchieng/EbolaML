{
 "cells": [
  {
   "cell_type": "markdown",
   "metadata": {},
   "source": [
    "During the 1976 outbreak in the DRC, the incubation period in humans exposed to EBOV through injection (in association with unsterilized needle reuse) was shorter than individuals exposed through known contacts (5–9 days, in respect of virus strains circulating in that outbreak [19]). Case fatality rates also differed by exposure route, with 100% mortality among those exposed through injection (85 out of 85) and 80% among cases with known contact (119 of 149).\n",
    "\n",
    "As of October 25, the WHO reported 10,141 cases and 4,922 deaths, making this ongoing outbreak several times larger than all previous Ebola outbreaks combined (Fig 3A) [24]. Even so, those numbers may be a drastic underestimate of the true case burden. In late August, the WHO estimates the true prevalence to be two to four times higher than the reported figures\n",
    "\n",
    "Accordingly, the only two cases of secondary transmission to occur in the US were associated with nursing staff and care of an Ebola patient [33]. Since these events\n",
    "\n",
    "There has been little analysis of the meteorological and hydrologic conditions associated with Ebola outbreaks. Study of these processes has been hampered by the limited availability of meteorological station observations in Central Africa\n",
    "\n",
    "War, population growth, poverty, and poor health infrastructure, among other social conditions in the outbreak region, have likely contributed to the unprecedented expanse, duration, and size of the EBOV epidemic in West Africa\n",
    "\n",
    "War, population growth, poverty, and poor health infrastructure, among other social conditions in the outbreak region, have likely contributed to the unprecedented expanse, duration, and size of the EBOV epidemic in West Africa \n",
    "\n",
    "Traditional medicine is defined as the total knowledge base, skills, and associated practices that arise from theories, beliefs, and experiences identified by different cultures and used in the maintenance of health. Traditional medicine constitutes the world’s oldest health care, and it has involved the development of culturally and geographically specific techniques for preventing illnesses and diagnosing and treating individuals and communities for centuries. \n",
    "\n",
    " Sick individuals have often opted to listen to traditional healers and rumors about potential “cures,” for example the use of saltwater baths and drinks that have led to recent deaths in Nigeria [95]. Drinking bleach was also considered a way to rid oneself of Ebola in the Ugandan outbreak of 2000–2001 [96]. In the 2005 Ebola outbreak in the Congo, traditional healers declared that cursed “dishonest hunters” caused the outbreak, and many believed this to be true [97].\n",
    " \n",
    " For example, in the Ugandan outbreak, people feared that once they went to hospital they would never see their families again [92]. In a rural setting, these influences will be important, but in high-density communities, they can be catastrophic in their effect on outbreak dynamics and control efforts\n",
    " \n",
    " Ebola survivors can also be heavily stigmatized—many survivors are rejected by their communities, have their belongings burned, and are not allowed to share common amenities [92]. Data from the 2001 Uganda outbreak suggest female survivors experienced more stigmatization than male survivors [92]. Stigmatization can reach beyond the immediate family, as for example in Uganda, where relatives of survivors and the deceased were also stigmatized once the names were publicly released \n",
    " \n",
    "Modelling may provide essential information on potential scenarios for outbreak progression, intervention design, and logistics planning \n",
    "\n",
    "http://journals.plos.org/plosntds/article?id=10.1371/journal.pntd.0003652#"
   ]
  }
 ],
 "metadata": {
  "kernelspec": {
   "display_name": "Python 3",
   "language": "python",
   "name": "python3"
  },
  "language_info": {
   "codemirror_mode": {
    "name": "ipython",
    "version": 3
   },
   "file_extension": ".py",
   "mimetype": "text/x-python",
   "name": "python",
   "nbconvert_exporter": "python",
   "pygments_lexer": "ipython3",
   "version": "3.6.1"
  }
 },
 "nbformat": 4,
 "nbformat_minor": 2
}
