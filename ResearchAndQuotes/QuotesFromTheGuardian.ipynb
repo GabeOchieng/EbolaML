{
 "cells": [
  {
   "cell_type": "markdown",
   "metadata": {},
   "source": [
    "# Ebola crisis – the Guardian briefing\n",
    "**Resource**: https://www.theguardian.com/world/2014/sep/25/-sp-ebola-crisis-briefing  <br>\n",
    "**Info**: By Sarah Boseley, Health editor. Published Wednesday 14 October 2015 13.48 BST\n",
    "\n",
    "\n",
    "Serious concerns about the spread of the virus to countries bordering the epidemic region intensified when a child died of Ebola in Mali, having travelled while sick for hundreds of miles by bus, but Mali, just like Nigeria, managed to close down the outbreak. Outside Africa, two nurses were infected while caring for a patient in Texas, who flew from Liberia before exhibiting symptoms, as was a nurse who treated a missionary repatriated to Madrid. In both cases, the patients died but the nurses recovered. A doctor returning to New York from Liberia fell sick and British nurse Pauline Cafferkey, who had volunteered in Sierra Leone, was also diagnosed, but both survived. Cafferkey fell ill again last week and is being treated at the Royal Free Hospital, in London, where she is “critically ill”. \n",
    "\n",
    "**Death of health workers**<br>\n",
    "The spread of Ebola through bodily fluids puts health workers dealing with such symptoms as vomiting, diarrhoea and bleeding at high risk. By 28 January, 818 health workers had developed the disease across Guinea, Liberia, Sierra Leone and Nigeria, with 488 dead. At the peak of the outbreak there was insufficient protective clothing for health workers. The suits are also uncomfortable to wear in hot climates and risk contamination when they are taken off.\n",
    "\n",
    "**Healthcare system collapse**<br>\n",
    "Healthcare in the region was fragile at best before Ebola. It further disintegrated as staff became ill or stayed away for fear of the disease. Infection control and hygiene were major issues. Soap and water were unavailable in some areas. Alcohol hand rubs were needed on a large scale. Isolation facilities are vital to contain Ebola, as are labs for testing because rapid diagnosis is very important. Both were in short supply. In some places, until western governments intervened and treatment centres were set up, isolation was nothing more than an area behind a curtain. People with other diseases and women in childbirth were at risk because hospitals are no longer functioning properly.\n",
    "\n",
    "**Cultural issues**<br>\n",
    "Levels of the virus in infected people are highest in the late stage of the disease and in dead bodies. The disease was often spread during traditional funeral practices that involve washing the corpse. Burial teams in protective clothing were dispatched to homes to collect and safely dispose of bodies. Another route of transmission has been traditional healing practices, which involve touching. Families are at high risk when they nurse their sick at home, as is traditionally the norm."
   ]
  }
 ],
 "metadata": {
  "kernelspec": {
   "display_name": "Python 3",
   "language": "python",
   "name": "python3"
  },
  "language_info": {
   "codemirror_mode": {
    "name": "ipython",
    "version": 3
   },
   "file_extension": ".py",
   "mimetype": "text/x-python",
   "name": "python",
   "nbconvert_exporter": "python",
   "pygments_lexer": "ipython3",
   "version": "3.6.1"
  }
 },
 "nbformat": 4,
 "nbformat_minor": 2
}
