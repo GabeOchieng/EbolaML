{
 "cells": [
  {
   "cell_type": "markdown",
   "metadata": {},
   "source": [
    "# Initial research"
   ]
  },
  {
   "cell_type": "markdown",
   "metadata": {},
   "source": [
    "On 02/07/2017 WHO declared an end to the latest Ebola outbreak in the Decomgraphic Republic of Congo (DRC). \"4 people died, and 4 people survived the disease. Five of these cases were laboratory confirmed.  A total of 583 contacts were registered and closely monitored, but no known contacts developed signs or symptoms of EVD.\" This is eight outbreak of ebola vivur cases in DRC since the discovery of the virus in the country in 1976.  \n",
    "\n",
    "http://www.afro.who.int/news/who-declares-end-ebola-outbreak-democratic-republic-congo"
   ]
  },
  {
   "cell_type": "code",
   "execution_count": null,
   "metadata": {
    "collapsed": true
   },
   "outputs": [],
   "source": []
  }
 ],
 "metadata": {
  "kernelspec": {
   "display_name": "Python 3",
   "language": "python",
   "name": "python3"
  },
  "language_info": {
   "codemirror_mode": {
    "name": "ipython",
    "version": 3
   },
   "file_extension": ".py",
   "mimetype": "text/x-python",
   "name": "python",
   "nbconvert_exporter": "python",
   "pygments_lexer": "ipython3",
   "version": "3.6.1"
  }
 },
 "nbformat": 4,
 "nbformat_minor": 2
}
