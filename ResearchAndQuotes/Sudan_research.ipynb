{
 "cells": [
  {
   "cell_type": "markdown",
   "metadata": {},
   "source": [
    "# Outbreak of Ebola haemorrhagic fever in Yambio, south Sudan, April – June 2004"
   ]
  },
  {
   "cell_type": "markdown",
   "metadata": {},
   "source": [
    "### Source: Weekly epidemiological report \n",
    "### 28 OCTOBER 2005, 80th YEAR / 28 OCTOBRE 2005, 80e ANNÉE No. 43, 2005, 80, 369–376\n",
    "### Link: http://www.who.int/wer/2005/wer8043.pdf"
   ]
  },
  {
   "cell_type": "markdown",
   "metadata": {},
   "source": [
    "On 6 May 2004, the medical staff at Yambio County Health Department and the coordinator of the Yambio WHO South Sudan Early Warning and Response Network (EWARN) reported a cluster of 7 suspected cases of haemorrhagic fever, including 2 deaths (...)The patients, 5 from the same family and 2 hospital staff, became sick over a period of 3 weeks. Their symptoms included high fever, bloody diarrhoea and vomiting. The clinical presentation, the family cluster and the nosocomial transmission led to a suspicion of viral haemorrhagic fever.\n",
    "\n",
    "A total of 23 volunteers, including patients who had recovered from EHF, were recruited to participate in social mobilization. Volunteers wore uniforms to increase their credibility. They went out every morning to targeted villages and spoke to residents in their homes, at marketplaces, and in restaurants, churches and schools. The use of simple measures was emphasized, such as asking sick people to contact the Ebola team within 24 hours of the onset of symptoms, recommending to people that they avoid direct contact with sick individuals and suggesting that for the duration of the outbreak the community refrain from the traditional practices of sleeping next to dead bodies or touching them\n",
    "\n",
    "A total of 25 volunteer nurses, cleaners and burial personnel were recruited and trained in barrier nursing and safety procedures relating to viral haemorrhagic fever. A core team of 4 medical officers, 2 nurses, 1 water/sanitation engineer and a logistician led, trained and supervised all staff involved in case-management activities.\n",
    "\n",
    "To make admission acceptable to patients, one family member was trained and allowed to stay with the patient, and meals were provided for both of them MSF–France completed the construction and reorganization of the isolation facility in the hospital within 4 days. When a patient who was suspected of being infected with Ebola was brought to the isolation ward he or she was clinically assessed and classified by the case-management team. The patient was seen in the screening tent for assessment\n",
    "and classification; if the patient’s illness could not be classified, then he or she was sent to the observation tent\n",
    "and reassessed after 1 or 2 days. Patients considered to be probable cases and laboratory-confirmed cases were admitted and sent to the isolation unit. Patients with measles were sent to another tent located outside the Ebola isolation area.\n",
    "\n",
    "The first patient was found to have fallen ill on 15 April 2004, and the last case died on 26 June 2004. Between 15 April and 26 June 2004, a total of 17 cases of EHF, 13 (76%) of which were laboratory-confirmed, were reported. All 17 cases, including 7 deaths (case–fatality rate, 41%), were identified in Yambio payam. On average, death occurred 10 days after symptoms appeared (median, 9 days). A total of 7 cases (41%) occurred in women. Patients’ ages ranged from 6 months to 60 years (median, 33 years); only 1 case occurred in someone younger than 15 years On 7 August 2004, 42 days after the death of the last registered\n",
    "case, WHO officially declared the end of the EHF epidemic.\n",
    "\n",
    "In Yambio County the end of the epidemic was marked with celebrations. The SPLM country secretary awarded certificates of appreciation to volunteers"
   ]
  },
  {
   "cell_type": "markdown",
   "metadata": {},
   "source": [
    "Page 6: bar chart of cases of Ebola haemorhagic fever in Sudan "
   ]
  }
 ],
 "metadata": {
  "kernelspec": {
   "display_name": "Python 3",
   "language": "python",
   "name": "python3"
  },
  "language_info": {
   "codemirror_mode": {
    "name": "ipython",
    "version": 3
   },
   "file_extension": ".py",
   "mimetype": "text/x-python",
   "name": "python",
   "nbconvert_exporter": "python",
   "pygments_lexer": "ipython3",
   "version": "3.6.1"
  }
 },
 "nbformat": 4,
 "nbformat_minor": 2
}
