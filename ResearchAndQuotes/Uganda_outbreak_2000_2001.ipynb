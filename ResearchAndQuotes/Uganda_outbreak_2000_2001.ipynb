{
 "cells": [
  {
   "cell_type": "markdown",
   "metadata": {},
   "source": [
    "# Uganda outbreak October 2000 till January 2001"
   ]
  },
  {
   "cell_type": "markdown",
   "metadata": {},
   "source": [
    "### Info: Tropical medicine and international Health Volume 7 Issue 12\n",
    "### Side: Wiley Online Library\n",
    "### Link: http://onlinelibrary.wiley.com/doi/10.1046/j.1365-3156.2002.00944.x/pdf"
   ]
  },
  {
   "cell_type": "markdown",
   "metadata": {},
   "source": [
    "An outbreak of Ebola disease was reported from Gulu district, Uganda, on 8 October 2000 For the duration of the epidemic that lasted up to 16 January 2001, a total of 425 cases with 224 deaths were reported countrywide. Uganda was finally declared Ebola free on 27 February 2001 42 days after the last case was reported. \n",
    "\n",
    "The case fatality rate was 53%. The attack rate (AR) was highest in women. The average AR for Gulu district was 12.6 cases/10 000 inhabitants when the contacts of all cases were considered and was 4.5 cases/10 000 if limited only to contacts of laboratory confirmed cases. The secondary AR was 2.5% when nearly 5000 contacts were followed up for 21 days. \n",
    "\n",
    "On October 12 2000, specimens collected from suspected cases were sent to the National Institute of Virology (NIV) in South Africa. Examination of the specimens confirmed that Ebola Sudan serotype wasresponsible for the outbreak.\n",
    "\n",
    "Most of the cases reported on October 8 2000 originated from Rwot-Obillo, a remote village 14 km north of Gulu town. At the time of the reporting, 12 people had died, including a health care worker and two student nurses. Most cases were linked to attendance of burial ceremonies\n",
    "\n",
    "The commonest symptom in this outbreak was fever, which occurred in 85% of cases. This was accompanied by severe headache, weakness and muscle aches. Diarrhoea and inflammation of the mucous membranes, especially of the eye, followed. Bleeding from body orifices was less frequent and occurred in only 30% of cases. It was associated with high mortality. The onset of symptoms was sudden and the disease rapidly progressed to multiple organ failure within a week. The incubation period was less than 2 weeks for the majority of cases with a mean of 12 days and range of 2–21 days. Neurological disturbances and deterioration of liver and kidney functions were swift. Deaths were mainly caused by dehydration and massive organ failure and often occurred within 10 days of onset of symptoms.\n",
    "\n",
    "Only 56.5% of cases had contact with primary cases, which raises concern over the possibility of indirect contact for the remaining cases. This area requires further research. (...) Twice as many women (63%) as men (37%) were affected. Thirty-one medical workers were infected, of whom 17 died. The median age of cases was 27 years (range 3 months to 81 years). Children under five constituted 14.6% of cases. The mean period between onset of symptoms and recovery was 12 days (range 2–35 days),the median 13 days (Figure 1). The mean length of admission among hospitalized cases who recovered was 10 days (range 1–29 days). \n",
    "\n",
    "Convalescence among survivors was slow and took several weeks. It was associated with several residual problems such as weight loss, dehydration, difficulty in hearing, mental disturbances and general weakness."
   ]
  },
  {
   "cell_type": "markdown",
   "metadata": {},
   "source": [
    "Graph on page 4 showing number of cases seperated on laboratory confirmed and non confirmed by laboratory. \n",
    "Table 1 on page 4 gives cummulative totals during this outbreak. "
   ]
  },
  {
   "cell_type": "markdown",
   "metadata": {},
   "source": [
    "# Outbreak of Ebola Hemorrhagic Fever —Uganda, August 2000–January 2001"
   ]
  },
  {
   "cell_type": "markdown",
   "metadata": {},
   "source": [
    "###  Info: morbidity and mortality weekly report/ author: unknown\n",
    "### side: CDC\n",
    "### link: https://www.cdc.gov/mmwr/PDF/wk/mm5005.pdf"
   ]
  },
  {
   "cell_type": "markdown",
   "metadata": {},
   "source": [
    "Laboratory testing was performed at a field laboratory established at St. Mary’s Hospital by CDC and supplemented by additional testing at CDC and NIV. Sequence analysis revealed that the virus associated with this outbreak was Ebola-Sudan\n",
    "\n",
    "During the third week of October, active surveillance was established and included three case notification categories: \n",
    "alert, suspect, and probable. The alert category comprised persons with sudden onset of high fever, sudden death, or hemorrhage, and was used by community members to alert health-care personnel. \n",
    "The suspect category comprised persons with fever and contact with a potential case-patient; persons with unexplained bleeding; persons with fever and three or more specified symptoms (i.e., headache, vomiting, anorexia, diarrhea, weakness or severe fatigue, abdominal pain, body aches or joint pains, difficulty swallowing, difficulty breathing, and hiccups), and all unexplained deaths. The suspect category was used by mobile surveillance teams to determine whether a patient required transport to an isolation ward. \n",
    "The probable category included persons who met these criteria and were assessed and reported by a physician. Laboratory tests included virus antigen detection and antibody ELISA tests and reverse transcriptase polymerase chain reaction. \n",
    "Laboratory-confirmed casepatients were defined as patients who met the surveillance case definitions and were either positive for Ebola virus antigen or Ebola IgG antibody."
   ]
  },
  {
   "cell_type": "markdown",
   "metadata": {},
   "source": [
    "page 75 map of distribution of presumptive case-patients with Ebola hemorrhagic fever \n",
    "page 76 bar chart of presumptive casepatients with Ebola hemorrhagic fever. "
   ]
  },
  {
   "cell_type": "code",
   "execution_count": null,
   "metadata": {
    "collapsed": true
   },
   "outputs": [],
   "source": []
  }
 ],
 "metadata": {
  "kernelspec": {
   "display_name": "Python 3",
   "language": "python",
   "name": "python3"
  },
  "language_info": {
   "codemirror_mode": {
    "name": "ipython",
    "version": 3
   },
   "file_extension": ".py",
   "mimetype": "text/x-python",
   "name": "python",
   "nbconvert_exporter": "python",
   "pygments_lexer": "ipython3",
   "version": "3.6.1"
  }
 },
 "nbformat": 4,
 "nbformat_minor": 2
}
