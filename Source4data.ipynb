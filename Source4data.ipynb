{
 "cells": [
  {
   "cell_type": "markdown",
   "metadata": {},
   "source": [
    "Rainfall and temperature:  http://sdwebx.worldbank.org/climateportal/index.cfm?page=country_historical_climate&ThisCCode=NGA\n",
    "    \n",
    "Ebola cases and deaths: https://data.humdata.org/dataset/ebola-cases-2014\n",
    "    \n",
    "unemployment, CPI http://data.worldbank.org/data-catalog/global-economic-monitor\n",
    "    "
   ]
  },
  {
   "cell_type": "code",
   "execution_count": null,
   "metadata": {
    "collapsed": true
   },
   "outputs": [],
   "source": []
  }
 ],
 "metadata": {
  "kernelspec": {
   "display_name": "Python 3",
   "language": "python",
   "name": "python3"
  },
  "language_info": {
   "codemirror_mode": {
    "name": "ipython",
    "version": 3
   },
   "file_extension": ".py",
   "mimetype": "text/x-python",
   "name": "python",
   "nbconvert_exporter": "python",
   "pygments_lexer": "ipython3",
   "version": "3.6.1"
  }
 },
 "nbformat": 4,
 "nbformat_minor": 2
}
