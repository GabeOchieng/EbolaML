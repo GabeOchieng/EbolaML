{
 "cells": [
  {
   "cell_type": "markdown",
   "metadata": {},
   "source": [
    "## List Of Environmental and Economics Factors:\n",
    "\n",
    "\n",
    "### Economics Factors:\n",
    "* CPI\n",
    "* Unemployment Rate \n",
    "* GDP\n",
    "* Salary\n",
    "* How many hospitals for given geographic areas\n",
    "* Practicing register doctor per person (ratio)\n",
    "* Growth National Income(GNI)\n",
    "* Gross National Product per capita\n",
    "\n",
    "### Environmental Factors:\n",
    "* Cloven-Hoofed Animals\n",
    "* Infrastructure (Roads)\n",
    "* Communication Networks (Phone and Internet)\n",
    "* National area - size of the country\n",
    "* City population per capita\n",
    "* Temperature \n",
    "* Rainfall \n",
    "* Humidity\n",
    "* Wind speed and direction\n",
    "\n",
    "\n",
    "### Notes \n",
    "The data will be collected on a monthly basis per country.<br>\n",
    "We have decided to review all factors together as equal and oe dataset, therefore proceeding with only one hypothesis moving forward."
   ]
  }
 ],
 "metadata": {
  "kernelspec": {
   "display_name": "Python 3",
   "language": "python",
   "name": "python3"
  },
  "language_info": {
   "codemirror_mode": {
    "name": "ipython",
    "version": 3
   },
   "file_extension": ".py",
   "mimetype": "text/x-python",
   "name": "python",
   "nbconvert_exporter": "python",
   "pygments_lexer": "ipython3",
   "version": "3.6.1"
  }
 },
 "nbformat": 4,
 "nbformat_minor": 2
}
