{
 "cells": [
  {
   "cell_type": "markdown",
   "metadata": {},
   "source": [
    "# Summaries for Ebola outbreak for 2012 in Uganda"
   ]
  },
  {
   "cell_type": "markdown",
   "metadata": {},
   "source": [
    "### source: centre for disease control and prevention\n",
    "### link: https://www.cdc.gov/vhf/ebola/outbreaks/history/summaries.html\n",
    "### retrieved: 13/08/2017"
   ]
  },
  {
   "cell_type": "markdown",
   "metadata": {},
   "source": [
    "On May 14, 2011, the Uganda Ministry of Health informed the public that a patient with suspected Ebola Hemorrhagic fever died May 6, 2011, in Luwero district, Uganda. CDC-Uganda confirmed a positive Ebola virus test result from a blood sample taken from the patient.\n",
    "\n",
    "On July 28, 2012, the Uganda Ministry of Health reported an outbreak of Ebola Hemorrhagic Fever in the Kibaale District of Uganda. A total of 24 human cases (probable and confirmed only), 17 of which were fatal, were reported starting at the beginning of July. Laboratory tests of blood samples conducted by the Uganda Virus Research Institute (UVRI) and CDC confirmed Ebola virus in 11 patients, four of whom died. Reported numbers are subject to change.\n",
    "On October 4, 2012, the Uganda Ministry of Health declared the outbreak ended.\n",
    "\n",
    "As of December 2, 2012, the Uganda Ministry of Health reported 7 cumulative cases (probable and confirmed) of Ebola virus infection, including 4 deaths, in the Luwero District of central Uganda. "
   ]
  }
 ],
 "metadata": {
  "kernelspec": {
   "display_name": "Python 3",
   "language": "python",
   "name": "python3"
  },
  "language_info": {
   "codemirror_mode": {
    "name": "ipython",
    "version": 3
   },
   "file_extension": ".py",
   "mimetype": "text/x-python",
   "name": "python",
   "nbconvert_exporter": "python",
   "pygments_lexer": "ipython3",
   "version": "3.6.1"
  }
 },
 "nbformat": 4,
 "nbformat_minor": 2
}
