{
 "cells": [
  {
   "cell_type": "markdown",
   "metadata": {},
   "source": [
    "# Clinical Manifestations and Case Management of Ebola Haemorrhagic Fever Caused by a Newly Identified Virus Strain, Bundibugyo, Uganda, 2007–2008"
   ]
  },
  {
   "cell_type": "markdown",
   "metadata": {},
   "source": [
    "## Info: \n",
    "### Authors:  Paul Roddy , Natasha Howard, Maria D. Van Kerkhove, Julius Lutwama, Joseph Wamala, Zabulon Yoti, Robert Colebunders, Pedro Pablo Palma, Esther Sterk, Benjamin Jeffs, Michel Van Herp, Matthias Borchert ### Published: December 28, 2012\n",
    "## Side: Plosone\n",
    "## Link: http://journals.plos.org/plosone/article?id=10.1371/journal.pone.0052986#pone-0052986-t001"
   ]
  },
  {
   "cell_type": "markdown",
   "metadata": {},
   "source": [
    "On 29 November 2007, the Uganda Ministry of Health (MoH) and the World Health Organization (WHO) confirmed an outbreak of EHF in Bundibugyo District, western Uganda, and responded in collaboration with Médecins Sans Frontières (MSF), the Uganda Virus Research Institute (UVRI), the United States Centers for Disease Control and Prevention (CDC), and others [68]. On 20 February 2008, the outbreak concluded with 93 putative and 56 laboratory-confirmed cases (30 of whom were hospitalised) and 37 deaths, yielding a 25% CFR [69], [70]. Most cases originated from Bundibugyo and Kikyo, towns of approximately 16,000 and 5,700 inhabitants respectively. Bundibugyo is situated at the base of the Rwenzori Mountains, and Kikyo 25 kilometres within them. An Ebola ward was set up and maintained at each location throughout the outbreak response [70]. Genetic sequencing of viral RNA, conducted at CDC Atlanta, confirmed that the virus causing the Bundibugyo outbreak differed from any known ebolavirus (EBOV) species and was, although most closely related to CIEBOV, therefore proposed as a new EBOV species provisionally named Bundibugyo ebolavirus (BEBOV)\n",
    "Median age was 37 years (range 20–66) and 73% were male. No female patients were known to be pregnant, though one had miscarried the day prior to her Ebola ward admission and another was breastfeeding. Most (73%) were isolated in the Bundibugyo Ebola ward. Half of patients (6/12; 50%) with occupation recorded were health workers, and five of these (83%) were male. All 14 patients (100%) with a recorded contact history reported direct contact and/or contact during funeral practices, whereas 12 patients (38%) reported no known contact. Demographic and contact history variables were not associated with clinical outcome (Fisher's exact p-value range: 0.25–0.69).\n",
    "Study subjects were patients hospitalised on Bundibugyo or Kikyo Ebola wards with subsequent EHF laboratory confirmation.\n",
    "Our study sample included 26 of the 30 hospitalised laboratory-confirmed EHF patients. Four patients were excluded for lacking symptom and/or clinical outcome data. Self-reported symptoms were recorded for 15 patients, clinically observed symptoms for 21 patients, and treatment details for 19 patients\n",
    "Median age was 37 years (range 20–66) and 73% were male. No female patients were known to be pregnant, though one had miscarried the day prior to her Ebola ward admission and another was breastfeeding. Most (73%) were isolated in the Bundibugyo Ebola ward. Half of patients (6/12; 50%) with occupation recorded were health workers, and five of these (83%) were male. All 14 patients (100%) with a recorded contact history reported direct contact and/or contact during funeral practices, whereas 12 patients (38%) reported no known contact. \n",
    "Eleven of the 26 patients died (CFR = 42%). The median duration of disease was 9 days (range 3 to 20) from self-reported symptom onset to death for 11 patients and 9.9 days (range 2 to 21) from self-reported onset to last recorded symptom prior to discharge for 15 surviving patients. Patients presented to an Ebola ward after a mean self-reported delay of 3.5 days (range 0 to 8) following symptom onset."
   ]
  },
  {
   "cell_type": "markdown",
   "metadata": {},
   "source": [
    "Demographics data of hospitalised patients: http://journals.plos.org/plosone/article/figure?id=10.1371/journal.pone.0052986.t001Symptomps of hospitalised patients: http://journals.plos.org/plosone/article/figure?id=10.1371/journal.pone.0052986.t002\n",
    "Treatment records of hospitalised patients: http://journals.plos.org/plosone/article/figure?id=10.1371/journal.pone.0052986.t003"
   ]
  },
  {
   "cell_type": "markdown",
   "metadata": {},
   "source": [
    "Symptomps of hospitalised patients: http://journals.plos.org/plosone/article/figure?id=10.1371/journal.pone.0052986.t002"
   ]
  },
  {
   "cell_type": "markdown",
   "metadata": {},
   "source": [
    "Treatment records of hospitalised patients: http://journals.plos.org/plosone/article/figure?id=10.1371/journal.pone.0052986.t003"
   ]
  }
 ],
 "metadata": {
  "kernelspec": {
   "display_name": "Python 3",
   "language": "python",
   "name": "python3"
  },
  "language_info": {
   "codemirror_mode": {
    "name": "ipython",
    "version": 3
   },
   "file_extension": ".py",
   "mimetype": "text/x-python",
   "name": "python",
   "nbconvert_exporter": "python",
   "pygments_lexer": "ipython3",
   "version": "3.6.1"
  }
 },
 "nbformat": 4,
 "nbformat_minor": 2
}
