{
 "cells": [
  {
   "cell_type": "markdown",
   "metadata": {},
   "source": [
    "## What Factors Might Have Led to the Emergence of Ebola in West Africa?\n",
    "**Written by**: Kathleen A. Alexander , Claire E. Sanderson, Madav Marathe, Bryan L. Lewis, Caitlin M. Rivers, Jeffrey Shaman, John M. Drake, Eric Lofgren, Virginia M. Dato, Marisa C. Eisenberg, Stephen Eubank\n",
    "\n",
    "**Published**: June 4, 2015 <br>\n",
    "**Link**: http://journals.plos.org/plosntds/article?id=10.1371/journal.pntd.0003652# <br>\n",
    "**Link**: https://doi.org/10.1371/journal.pntd.0003652 <br>\n",
    "**Retrieved**: 01 August 2017 <br>"
   ]
  },
  {
   "cell_type": "markdown",
   "metadata": {},
   "source": [
    "> During the 1976 outbreak in the DRC, the incubation period in humans exposed to EBOV through injection (in association with unsterilized needle reuse) was shorter than individuals exposed through known contacts (5–9 days, in respect of virus strains circulating in that outbreak [19]). Case fatality rates also differed by exposure route, with 100% mortality among those exposed through injection (85 out of 85) and 80% among cases with known contact (119 of 149).\n",
    "\n",
    "Source: [19] Breman J, Piot P, Johnson K, White M, Mbuyi M, et al. (1978) The epidemiology of Ebola hemorrhagic fever in Zaire, 1976. Ebola virus haemorrhagic fever: 103–124.\n",
    "<br><br>\n",
    "\n",
    "> As of October 25, the WHO reported 10,141 cases and 4,922 deaths, making this ongoing outbreak several times larger than all previous Ebola outbreaks combined (Fig 3A) [24]. Even so, those numbers may be a drastic underestimate of the true case burden. In late August, the WHO estimates the true prevalence to be two to four times higher than the reported figures [25].\n",
    "\n",
    "Source: [24] Centers for Disease Control and Prevention (2014) 2014 Ebola Outbreak in West Africa—Case Counts. In: Prevention CfDCa, (NCEZID) NCfEaZID, (DHCPP) DoH-CPaP, (VSPB) VSPB, editors. http://www.cdc.gov/vhf/ebola/outbreaks/2014-west-africa/case-counts.html. Accessed 8 May 2015. <br>\n",
    "Source: [25] World Health Organization (2014) Ebola Response Roadmap. http://apps.who.int/iris/bitstream/10665/131596/1/EbolaResponseRoadmap.pdf. Accessed 8 May 2015.\n",
    "<br><br>\n",
    "\n",
    ">Accordingly, the only two cases of secondary transmission to occur in the US were associated with nursing staff and care of an Ebola patient [33]. Since these events, CDC guidelines and other safety protocols have been revised and strengthened [34].\n",
    "\n",
    "Source: [33] McCarthy M (2014) Texas healthcare worker is diagnosed with Ebola. BMJ 349: g6200. pmid:25313199 <br>\n",
    "Source: [34] McCarthy M (2014) US issues new guidelines for health workers caring for Ebola patients. BMJ 349: g6418. pmid:25338723\n",
    "<br><br>\n",
    "\n",
    ">There has been little analysis of the meteorological and hydrologic conditions associated with Ebola outbreaks. Study of these processes has been hampered by the limited availability of meteorological station observations in Central Africa.\n",
    "\n",
    "Source: not specified, probably the writers of the article.\n",
    "<br><br>\n",
    "\n",
    ">War, population growth, poverty, and poor health infrastructure, among other social conditions in the outbreak region, have likely contributed to the unprecedented expanse, duration, and size of the EBOV epidemic in West Africa (Table 3). In this region of Africa, population growth has been dramatic, with population densities (people/km2) increasing by 223%, 178%, and 275% in Guinea (1960–2012), Sierra Leone, and Liberia, respectively (1961–2013, Fig 7A) [64].\n",
    "\n",
    "Source: [64] The World Bank (2014) Data. http://databank.worldbank.org/. Accessed 15 May 2015.\n",
    "<br><br>\n",
    "\n",
    ">Traditional medicine is defined as the total knowledge base, skills, and associated practices that arise from theories, beliefs, and experiences identified by different cultures and used in the maintenance of health. Traditional medicine constitutes the world’s oldest health care, and it has involved the development of culturally and geographically specific techniques for preventing illnesses and diagnosing and treating individuals and communities for centuries.\n",
    "\n",
    "Source: not specified, probably the writers of the article.\n",
    "<br><br>\n",
    "\n",
    ">Sick individuals have often opted to listen to traditional healers and rumors about potential “cures,” for example the use of saltwater baths and drinks that have led to recent deaths in Nigeria [95]. Drinking bleach was also considered a way to rid oneself of Ebola in the Ugandan outbreak of 2000–2001 [96]. In the 2005 Ebola outbreak in the Congo, traditional healers declared that cursed “dishonest hunters” caused the outbreak, and many believed this to be true [97].\n",
    "\n",
    "Source: [95] Umeora O, Emma-Echiegu N, Umeora M, Ajayi N (2014) Ebola viral disease in Nigeria: The panic and cultural threat. African Journal of Medical and Health Sciences 13: 1. <br>\n",
    "Source: [96] Kinsman J (2012) A time of fear”: local, national, and international responses to a large Ebola outbreak in Uganda. Global Health 8: 15. pmid:22695277 <br>\n",
    "Source: [97] Nkoghe D, Kone ML, Yada A, Leroy E (2011) A limited outbreak of Ebola haemorrhagic fever in Etoumbi, Republic of Congo, 2005. Transactions of the Royal Society of Tropical Medicine and Hygiene 105: 466–472. pmid:21605882\n",
    "<br><br>\n",
    "\n",
    ">For example, in the Ugandan outbreak, people feared that once they went to hospital they would never see their families again [92]. In a rural setting, these influences will be important, but in high-density communities, they can be catastrophic in their effect on outbreak dynamics and control efforts.\n",
    "\n",
    "Source: [92] Hewlett BS, Amola RP (2003) Cultural contexts of Ebola in northern Uganda. Emerging infectious diseases 9: 1242. pmid:14609458\n",
    "<br><br>\n",
    "\n",
    ">Ebola survivors can also be heavily stigmatized—many survivors are rejected by their communities, have their belongings burned, and are not allowed to share common amenities [92]. Data from the 2001 Uganda outbreak suggest female survivors experienced more stigmatization than male survivors [92]. Stigmatization can reach beyond the immediate family, as for example in Uganda, where relatives of survivors and the deceased were also stigmatized once the names were publicly released [96]. \n",
    "\n",
    "Source: [92] Hewlett BS, Amola RP (2003) Cultural contexts of Ebola in northern Uganda. Emerging infectious diseases 9: 1242. pmid:14609458 <br>\n",
    "Source: [96] Kinsman J (2012) A time of fear”: local, national, and international responses to a large Ebola outbreak in Uganda. Global Health 8: 15. pmid:22695277\n",
    "<br><br>\n",
    "\n",
    ">Modelling may provide essential information on potential scenarios for outbreak progression, intervention design, and logistics planning [107]. \n",
    "\n",
    "Source: [107] Fineberg HV, Wilson ME (2009) Epidemic science in real time. Science 324: 987–987. pmid:19460968"
   ]
  }
 ],
 "metadata": {
  "kernelspec": {
   "display_name": "Python 3",
   "language": "python",
   "name": "python3"
  },
  "language_info": {
   "codemirror_mode": {
    "name": "ipython",
    "version": 3
   },
   "file_extension": ".py",
   "mimetype": "text/x-python",
   "name": "python",
   "nbconvert_exporter": "python",
   "pygments_lexer": "ipython3",
   "version": "3.6.1"
  }
 },
 "nbformat": 4,
 "nbformat_minor": 2
}
