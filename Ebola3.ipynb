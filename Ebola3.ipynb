{
 "cells": [
  {
   "cell_type": "markdown",
   "metadata": {},
   "source": [
    "Sierra Leone was finally declared Ebola-free on 17 March 2016 and the country is now struggling to rebuild its shattered health system. \n",
    "https://www.msf.org.uk/country/sierra-leone\n",
    "\n",
    "Liberia was declared Ebola free in May 2015, but new cases were reported in July and November.\n",
    "https://www.msf.org.uk/country/liberia\n",
    "\n",
    "The end of the Ebola outbreak in Guinea was declared on 29 December (however, new cases of Ebola were declared in Guinea in March 2016).\n",
    "https://www.msf.org.uk/country/guinea"
   ]
  }
 ],
 "metadata": {
  "kernelspec": {
   "display_name": "Python 3",
   "language": "python",
   "name": "python3"
  },
  "language_info": {
   "codemirror_mode": {
    "name": "ipython",
    "version": 3
   },
   "file_extension": ".py",
   "mimetype": "text/x-python",
   "name": "python",
   "nbconvert_exporter": "python",
   "pygments_lexer": "ipython3",
   "version": "3.6.1"
  }
 },
 "nbformat": 4,
 "nbformat_minor": 2
}
